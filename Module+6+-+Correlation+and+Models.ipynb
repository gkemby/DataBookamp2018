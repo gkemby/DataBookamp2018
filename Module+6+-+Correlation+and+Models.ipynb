{
  "cells": [
    {
      "metadata": {
        "collapsed": true,
        "trusted": false
      },
      "cell_type": "code",
      "source": "import pandas as pd\nimport numpy as np",
      "execution_count": null,
      "outputs": []
    },
    {
      "metadata": {},
      "cell_type": "markdown",
      "source": "# Correlation"
    },
    {
      "metadata": {
        "trusted": false
      },
      "cell_type": "code",
      "source": "Location = \"datasets/datasets/gradedata.csv\"\ndf = pd.read_csv(Location)\n\ndf.head()",
      "execution_count": null,
      "outputs": []
    },
    {
      "metadata": {
        "scrolled": true,
        "trusted": false
      },
      "cell_type": "code",
      "source": "df.corr()",
      "execution_count": null,
      "outputs": []
    },
    {
      "metadata": {},
      "cell_type": "markdown",
      "source": "# Linear Regression"
    },
    {
      "metadata": {
        "collapsed": true,
        "trusted": false
      },
      "cell_type": "code",
      "source": "import statsmodels.formula.api as smf",
      "execution_count": null,
      "outputs": []
    },
    {
      "metadata": {
        "collapsed": true,
        "scrolled": true,
        "trusted": false
      },
      "cell_type": "code",
      "source": "result = smf.ols('grade ~ age + exercise + hours', data=df).fit()",
      "execution_count": null,
      "outputs": []
    },
    {
      "metadata": {
        "scrolled": false,
        "trusted": false
      },
      "cell_type": "code",
      "source": "result.summary()",
      "execution_count": null,
      "outputs": []
    },
    {
      "metadata": {},
      "cell_type": "markdown",
      "source": "With age, exercise, and hours being 0, your starting grade is likely to be around 57.87"
    },
    {
      "metadata": {
        "trusted": false
      },
      "cell_type": "code",
      "source": "#remove age from regression, not very correlated\nresult = sm.ols('grade ~ exercise + hours', data=df).fit()\nresult.summary()",
      "execution_count": null,
      "outputs": []
    },
    {
      "metadata": {
        "trusted": false
      },
      "cell_type": "code",
      "source": "#set coefficient to 0\nresult = sm.ols(formula='grade ~ age + exercise + hours - 1', data=df).fit()\nresult.summary()",
      "execution_count": null,
      "outputs": []
    },
    {
      "metadata": {},
      "cell_type": "markdown",
      "source": "### Your Turn\n\nRun a correlation and regresssion on the dataset below. What can you tell from the data?"
    },
    {
      "metadata": {
        "scrolled": true,
        "trusted": false
      },
      "cell_type": "code",
      "source": "Location = \"datasets/datasets/tamiami.csv\"\n\ndf = pd.read_csv(Location)\ndf.head()",
      "execution_count": null,
      "outputs": []
    },
    {
      "metadata": {
        "trusted": false
      },
      "cell_type": "code",
      "source": "columns = ['location', 'sales', 'employees', 'restaurants', 'foodcarts', 'price']\n\n#change column names for readability\ndf.columns = columns\ndf.head()",
      "execution_count": null,
      "outputs": []
    }
  ],
  "metadata": {
    "kernelspec": {
      "name": "python3",
      "display_name": "Python 3",
      "language": "python"
    },
    "language_info": {
      "mimetype": "text/x-python",
      "nbconvert_exporter": "python",
      "name": "python",
      "file_extension": ".py",
      "version": "3.5.4",
      "pygments_lexer": "ipython3",
      "codemirror_mode": {
        "version": 3,
        "name": "ipython"
      }
    }
  },
  "nbformat": 4,
  "nbformat_minor": 2
}